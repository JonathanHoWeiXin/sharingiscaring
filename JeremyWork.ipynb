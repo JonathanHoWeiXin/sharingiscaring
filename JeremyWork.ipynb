{
 "cells": [
  {
   "cell_type": "code",
   "execution_count": 67,
   "metadata": {},
   "outputs": [],
   "source": [
    "# Import name data file and convert it into a list\n",
    "import  csv\n",
    "file = open(\"Desktop/Data Pull.csv\", 'r')\n",
    "reader = csv.reader(file)\n",
    "allRows = [row for row in reader]\n",
    "\n",
    "flat_list = []\n",
    "for sublist in allRows:\n",
    "    for item in sublist:\n",
    "        flat_list.append(item)\n",
    "        "
   ]
  },
  {
   "cell_type": "code",
   "execution_count": 47,
   "metadata": {},
   "outputs": [
    {
     "name": "stdout",
     "output_type": "stream",
     "text": [
      "['IkhsanModjo', 'monethamrin', 'fadlizon', 'prabowo', 'cumarachel', 'lustrilanang', 'aryodjojo', 'habiburokhman']\n",
      "IkhsanModjo\n",
      "monethamrin\n",
      "fadlizon\n",
      "prabowo\n",
      "cumarachel\n",
      "lustrilanang\n",
      "aryodjojo\n",
      "habiburokhman\n"
     ]
    }
   ],
   "source": [
    "# Restrict sample size to test program \n",
    "flat_list = flat_list[60:68]\n",
    "\n",
    "for i in flat_list:\n",
    "    print(i)"
   ]
  },
  {
   "cell_type": "code",
   "execution_count": 68,
   "metadata": {},
   "outputs": [
    {
     "name": "stdout",
     "output_type": "stream",
     "text": [
      "----------File Processed----------\n"
     ]
    }
   ],
   "source": [
    "from lxml import html\n",
    "import requests\n",
    "import pandas as pd\n",
    "import string\n",
    "\n",
    "listw = []\n",
    "\n",
    "for i in flat_list:\n",
    "    listz = []\n",
    "    lala = []\n",
    "    veri = \"No\"\n",
    "    url = 'http://twitter.com/' + str(i)\n",
    "    page = requests.get(url)\n",
    "    tree = html.fromstring(page.text)\n",
    "\n",
    "    followers = tree.xpath('//a[@data-nav=\"followers\"]/@title')\n",
    "    verified = tree.xpath('//a[@class=\"js-tooltip\"]')\n",
    "    \n",
    "    for k in verified:\n",
    "        if (pd.isnull(k) == True):\n",
    "            veri = \"No\"\n",
    "        else:\n",
    "            veri = \"Yes\"\n",
    "        \n",
    " \n",
    "    for j in followers:\n",
    "        lala = (j.split())[0]\n",
    "    \n",
    "    listz.append(lala)\n",
    "    listz.append(url)\n",
    "    listz.append(i)\n",
    "    listz.append(veri)\n",
    "    listw.append(listz)\n",
    "    \n",
    "    \n",
    "csvData = listw\n",
    "\n",
    "with open('JeremyDataTwiiter.csv', 'w') as csvFile:\n",
    "    writer = csv.writer(csvFile)\n",
    "    writer.writerows(csvData)\n",
    "\n",
    "csvFile.close()\n",
    "\n",
    "print(\"-\"*10 + 'File Processed' + '-'*10)\n",
    "\n",
    "\n"
   ]
  },
  {
   "cell_type": "code",
   "execution_count": null,
   "metadata": {},
   "outputs": [],
   "source": [
    "import tkinter # note that module name has changed from Tkinter in Python 2 to tkinter in Python 3\n",
    "top = tkinter.Tk()\n",
    "# Code to add widgets will go here...\n",
    "top.mainloop()"
   ]
  },
  {
   "cell_type": "code",
   "execution_count": null,
   "metadata": {},
   "outputs": [],
   "source": [
    "from urllib.request import urlopen\n",
    "from bs4 import BeautifulSoup\n",
    "import html2text\n",
    "\n",
    "twitter = urlopen(\"https://twitter.com/jokowi\")\n",
    "twitter2 = twitter.read()\n",
    "\n",
    "soup = BeautifulSoup(twitter2, 'html')\n",
    "print(len(soup.find_all('a')))\n",
    "textd = soup.find_all(\"a\", class_ = \"ProfileNav-stat ProfileNav-stat--link u-borderUserColor u-textCenter js-tooltip js-openSignupDialog js-nonNavigable u-textUserColor\", nav_ \n",
    "                      =\"followers\")\n",
    "\n",
    "\n",
    "\n",
    "print(soup.prettify())\n",
    "\n"
   ]
  }
 ],
 "metadata": {
  "kernelspec": {
   "display_name": "Python 3",
   "language": "python",
   "name": "python3"
  },
  "language_info": {
   "codemirror_mode": {
    "name": "ipython",
    "version": 3
   },
   "file_extension": ".py",
   "mimetype": "text/x-python",
   "name": "python",
   "nbconvert_exporter": "python",
   "pygments_lexer": "ipython3",
   "version": "3.6.6"
  }
 },
 "nbformat": 4,
 "nbformat_minor": 2
}
